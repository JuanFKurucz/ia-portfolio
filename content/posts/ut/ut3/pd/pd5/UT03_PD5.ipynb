{
  "nbformat": 4,
  "nbformat_minor": 0,
  "metadata": {
    "colab": {
      "name": "UT03_PD5.ipynb",
      "provenance": [],
      "collapsed_sections": []
    },
    "kernelspec": {
      "name": "python3",
      "display_name": "Python 3"
    },
    "language_info": {
      "name": "python"
    }
  },
  "cells": [
    {
      "cell_type": "markdown",
      "metadata": {
        "id": "tF5VLcjwc_ei"
      },
      "source": [
        "# Parte 1: carga de datos y preparación"
      ]
    },
    {
      "cell_type": "markdown",
      "metadata": {
        "id": "eU67QglHdDTK"
      },
      "source": [
        "## Crear un archivo Python y agregar las dependencias necesarias"
      ]
    },
    {
      "cell_type": "code",
      "metadata": {
        "id": "Tg9sYExC1_xz"
      },
      "source": [
        "import matplotlib\n",
        "import matplotlib.pyplot as plt\n",
        "import pandas as pd\n",
        "import seaborn as sn\n",
        "from sklearn.discriminant_analysis import LinearDiscriminantAnalysis\n",
        "from sklearn.linear_model import LogisticRegression\n",
        "from sklearn.metrics import confusion_matrix, classification_report\n",
        "from sklearn.model_selection import train_test_split\n",
        "from sklearn.preprocessing import LabelEncoder\n"
      ],
      "execution_count": 1,
      "outputs": []
    },
    {
      "cell_type": "code",
      "metadata": {
        "id": "_nLLs4MhfDqS"
      },
      "source": [
        "def plot_confusion_matrix(test_y, y_pred, printMode=True):\n",
        "  cm = confusion_matrix(test_y, y_pred)\n",
        "  if printMode:\n",
        "    print(cm)\n",
        "  sn.heatmap(cm, annot=True)\n"
      ],
      "execution_count": 2,
      "outputs": []
    },
    {
      "cell_type": "code",
      "metadata": {
        "id": "YevMTNi2fgjo"
      },
      "source": [
        "def load_data(path,printMode=True):\n",
        "  df = pd.read_csv(path, header=0)\n",
        "  if printMode:\n",
        "    print(df.values)\n",
        "  return df"
      ],
      "execution_count": 3,
      "outputs": []
    },
    {
      "cell_type": "markdown",
      "metadata": {
        "id": "of5SR3KwdF3i"
      },
      "source": [
        "## Leer el dataset desde el archivo CSV utilizando la librería Pandas. Y ver como esta compuesto."
      ]
    },
    {
      "cell_type": "code",
      "metadata": {
        "colab": {
          "base_uri": "https://localhost:8080/"
        },
        "id": "1cpbObG62E32",
        "outputId": "6fe36424-a0c2-41d7-c5d7-d070527f96d9"
      },
      "source": [
        "df = load_data(\"./sample.csv\")"
      ],
      "execution_count": 4,
      "outputs": [
        {
          "output_type": "stream",
          "name": "stdout",
          "text": [
            "[[2.7810836  2.550537   0.        ]\n",
            " [1.46548937 2.36212508 0.        ]\n",
            " [3.39656169 4.40029353 0.        ]\n",
            " [1.38807019 1.85022032 0.        ]\n",
            " [3.06407232 3.00530597 0.        ]\n",
            " [2.2810836  2.950537   0.        ]\n",
            " [1.86548937 2.86212508 0.        ]\n",
            " [3.89656169 4.00029353 0.        ]\n",
            " [1.08807019 1.15022032 0.        ]\n",
            " [3.96407232 3.00530597 0.        ]\n",
            " [7.62753121 2.75926224 1.        ]\n",
            " [5.33244125 2.08862677 1.        ]\n",
            " [6.92259672 1.77106367 1.        ]\n",
            " [8.37541865 0.52068655 1.        ]\n",
            " [7.67375647 3.50856301 1.        ]\n",
            " [6.62753121 2.99262235 1.        ]\n",
            " [6.33244125 1.08862678 1.        ]\n",
            " [5.92259672 1.88106367 1.        ]\n",
            " [8.67541865 0.30206866 1.        ]\n",
            " [7.67375647 1.50856301 1.        ]]\n"
          ]
        }
      ]
    },
    {
      "cell_type": "markdown",
      "metadata": {
        "id": "c6qYbMCBdH2v"
      },
      "source": [
        "## Graficar los datos utilizando la librería."
      ]
    },
    {
      "cell_type": "code",
      "metadata": {
        "colab": {
          "base_uri": "https://localhost:8080/",
          "height": 265
        },
        "id": "oMHaQznn2GsJ",
        "outputId": "39506ec0-5c9e-4569-ae5b-9c46e2a75318"
      },
      "source": [
        "colors = (\"orange\", \"blue\")\n",
        "plt.scatter(df['x'], df['y'], s=300, c=df['label'],\n",
        "cmap=matplotlib.colors.ListedColormap(colors))\n",
        "plt.show()"
      ],
      "execution_count": 5,
      "outputs": [
        {
          "output_type": "display_data",
          "data": {
            "image/png": "[encoded data removed]",
            "text/plain": [
              "<Figure size 432x288 with 1 Axes>"
            ]
          },
          "metadata": {
            "needs_background": "light"
          }
        }
      ]
    },
    {
      "cell_type": "markdown",
      "metadata": {
        "id": "rfAnefyqdJ3V"
      },
      "source": [
        "## Obtener a partir del dataset los datos y las clases."
      ]
    },
    {
      "cell_type": "code",
      "metadata": {
        "id": "c-KHw4NDfsiz"
      },
      "source": [
        "attributes = ['x', 'y']\n",
        "labels = ['label']"
      ],
      "execution_count": 6,
      "outputs": []
    },
    {
      "cell_type": "code",
      "metadata": {
        "id": "a3ptWpkX2O_1"
      },
      "source": [
        "X = df[attributes].values\n",
        "y = df[labels].values"
      ],
      "execution_count": 7,
      "outputs": []
    },
    {
      "cell_type": "markdown",
      "metadata": {
        "id": "Z7cuj-eHdL9D"
      },
      "source": [
        "# Parte 2: entrenamiento y testing"
      ]
    },
    {
      "cell_type": "markdown",
      "metadata": {
        "id": "SZhO1ekfdN4B"
      },
      "source": [
        "## Dividir el conjunto de datos en 2, uno para entrenamiento y otro para prueba."
      ]
    },
    {
      "cell_type": "code",
      "metadata": {
        "id": "iECbdk5j2Q8X"
      },
      "source": [
        "train_X, test_X, train_y, test_y = train_test_split(X, y, test_size=0.25,\n",
        "random_state=0, shuffle=True)"
      ],
      "execution_count": 8,
      "outputs": []
    },
    {
      "cell_type": "markdown",
      "metadata": {
        "id": "VlvEbto7dPza"
      },
      "source": [
        "## Crear el un modelo de LDA y entrenarlo."
      ]
    },
    {
      "cell_type": "code",
      "metadata": {
        "id": "O5mvr0O02S8x",
        "colab": {
          "base_uri": "https://localhost:8080/"
        },
        "outputId": "bae78725-2b5f-47fa-ff05-1c9f2c8b0934"
      },
      "source": [
        "lda = LinearDiscriminantAnalysis()\n",
        "lda = lda.fit(train_X, train_y)"
      ],
      "execution_count": 9,
      "outputs": [
        {
          "output_type": "stream",
          "name": "stderr",
          "text": [
            "/usr/local/lib/python3.7/dist-packages/sklearn/utils/validation.py:760: DataConversionWarning: A column-vector y was passed when a 1d array was expected. Please change the shape of y to (n_samples, ), for example using ravel().\n",
            "  y = column_or_1d(y, warn=True)\n"
          ]
        }
      ]
    },
    {
      "cell_type": "markdown",
      "metadata": {
        "id": "NY2krvxmdRvS"
      },
      "source": [
        "# Parte 3: evaluación"
      ]
    },
    {
      "cell_type": "markdown",
      "metadata": {
        "id": "MptDI0DzdTj3"
      },
      "source": [
        "## Predecir las clases para los datos del conjunto de prueba y ver los resultados."
      ]
    },
    {
      "cell_type": "code",
      "metadata": {
        "colab": {
          "base_uri": "https://localhost:8080/"
        },
        "id": "FftgcAZf2UKQ",
        "outputId": "81a69504-3bd7-4969-89a4-ece495d44be0"
      },
      "source": [
        "y_pred = lda.predict(test_X)\n",
        "print(\"Predicted vs Expected\")\n",
        "print(y_pred)\n",
        "print(test_y)"
      ],
      "execution_count": 10,
      "outputs": [
        {
          "output_type": "stream",
          "name": "stdout",
          "text": [
            "Predicted vs Expected\n",
            "[1 0 1 0 1]\n",
            "[[1]\n",
            " [0]\n",
            " [1]\n",
            " [0]\n",
            " [1]]\n"
          ]
        }
      ]
    },
    {
      "cell_type": "markdown",
      "metadata": {
        "id": "V_HYDKZAdWQe"
      },
      "source": [
        "## Probar el modelo y ver el reporte. Observar las columnas y que significan."
      ]
    },
    {
      "cell_type": "code",
      "metadata": {
        "colab": {
          "base_uri": "https://localhost:8080/"
        },
        "id": "z_uvYlwt2Z-w",
        "outputId": "362025e4-231d-4d73-d702-411cb40ae167"
      },
      "source": [
        "print(classification_report(test_y, y_pred, digits=3))"
      ],
      "execution_count": 11,
      "outputs": [
        {
          "output_type": "stream",
          "name": "stdout",
          "text": [
            "              precision    recall  f1-score   support\n",
            "\n",
            "           0      1.000     1.000     1.000         2\n",
            "           1      1.000     1.000     1.000         3\n",
            "\n",
            "    accuracy                          1.000         5\n",
            "   macro avg      1.000     1.000     1.000         5\n",
            "weighted avg      1.000     1.000     1.000         5\n",
            "\n"
          ]
        }
      ]
    },
    {
      "cell_type": "markdown",
      "metadata": {
        "id": "pQPKplSFdYKb"
      },
      "source": [
        "## Ver la matriz de confusión y analizar los resultados."
      ]
    },
    {
      "cell_type": "code",
      "metadata": {
        "colab": {
          "base_uri": "https://localhost:8080/",
          "height": 304
        },
        "id": "eHb7n3ug2bbj",
        "outputId": "b845e3eb-f7d0-48ce-abfc-3cdb592c0312"
      },
      "source": [
        "plot_confusion_matrix(test_y, y_pred)"
      ],
      "execution_count": 12,
      "outputs": [
        {
          "output_type": "stream",
          "name": "stdout",
          "text": [
            "[[2 0]\n",
            " [0 3]]\n"
          ]
        },
        {
          "output_type": "display_data",
          "data": {
            "image/png": "[encoded data removed]",
            "text/plain": [
              "<Figure size 432x288 with 2 Axes>"
            ]
          },
          "metadata": {
            "needs_background": "light"
          }
        }
      ]
    },
    {
      "cell_type": "markdown",
      "metadata": {
        "id": "nTeP3x-XdrDd"
      },
      "source": [
        "# Parte 4 (opcional): Regresión Logística"
      ]
    },
    {
      "cell_type": "code",
      "metadata": {
        "id": "nDWU78eM2c04"
      },
      "source": [
        "lr = LogisticRegression()"
      ],
      "execution_count": 13,
      "outputs": []
    },
    {
      "cell_type": "code",
      "metadata": {
        "id": "7grdGieu2gfD",
        "colab": {
          "base_uri": "https://localhost:8080/"
        },
        "outputId": "dd7c05af-ee14-498c-c4f2-61ba2a15977a"
      },
      "source": [
        "lr = lr.fit(train_X, train_y)"
      ],
      "execution_count": 14,
      "outputs": [
        {
          "output_type": "stream",
          "name": "stderr",
          "text": [
            "/usr/local/lib/python3.7/dist-packages/sklearn/utils/validation.py:760: DataConversionWarning: A column-vector y was passed when a 1d array was expected. Please change the shape of y to (n_samples, ), for example using ravel().\n",
            "  y = column_or_1d(y, warn=True)\n"
          ]
        }
      ]
    },
    {
      "cell_type": "code",
      "metadata": {
        "colab": {
          "base_uri": "https://localhost:8080/"
        },
        "id": "4ZmWn4uw2iJ8",
        "outputId": "ca25504c-7170-48e1-d7da-cc2faa1e9c79"
      },
      "source": [
        "y_pred = lr.predict(test_X)\n",
        "print(\"Predicted vs Expected\")\n",
        "print(y_pred)\n",
        "print(test_y)"
      ],
      "execution_count": 15,
      "outputs": [
        {
          "output_type": "stream",
          "name": "stdout",
          "text": [
            "Predicted vs Expected\n",
            "[1 0 1 0 1]\n",
            "[[1]\n",
            " [0]\n",
            " [1]\n",
            " [0]\n",
            " [1]]\n"
          ]
        }
      ]
    },
    {
      "cell_type": "code",
      "metadata": {
        "colab": {
          "base_uri": "https://localhost:8080/"
        },
        "id": "0jYPPFX32m4e",
        "outputId": "86f86c01-f2b1-492e-dff3-206a6d4efe18"
      },
      "source": [
        "print(classification_report(test_y, y_pred, digits=3))"
      ],
      "execution_count": 16,
      "outputs": [
        {
          "output_type": "stream",
          "name": "stdout",
          "text": [
            "              precision    recall  f1-score   support\n",
            "\n",
            "           0      1.000     1.000     1.000         2\n",
            "           1      1.000     1.000     1.000         3\n",
            "\n",
            "    accuracy                          1.000         5\n",
            "   macro avg      1.000     1.000     1.000         5\n",
            "weighted avg      1.000     1.000     1.000         5\n",
            "\n"
          ]
        }
      ]
    },
    {
      "cell_type": "code",
      "metadata": {
        "colab": {
          "base_uri": "https://localhost:8080/",
          "height": 304
        },
        "id": "ERfBzLDYdwho",
        "outputId": "20f40fa5-48da-4417-b377-733660fbcf6e"
      },
      "source": [
        "plot_confusion_matrix(test_y, y_pred)"
      ],
      "execution_count": 17,
      "outputs": [
        {
          "output_type": "stream",
          "name": "stdout",
          "text": [
            "[[2 0]\n",
            " [0 3]]\n"
          ]
        },
        {
          "output_type": "display_data",
          "data": {
            "image/png": "[encoded data removed]",
            "text/plain": [
              "<Figure size 432x288 with 2 Axes>"
            ]
          },
          "metadata": {
            "needs_background": "light"
          }
        }
      ]
    },
    {
      "cell_type": "markdown",
      "metadata": {
        "id": "3kbgyw4p2-vx"
      },
      "source": [
        "# Ejercicio 2 - Dataset sport-training.csv\n",
        "\n",
        "Realizar nuevamente el ejercicio del trabajo de aplicación 6 para la clasificación de deportistas utilizando scikit-learn. En cada paso comparar los resultados con los obtenidos utilizando RapidMiner."
      ]
    },
    {
      "cell_type": "code",
      "metadata": {
        "colab": {
          "base_uri": "https://localhost:8080/"
        },
        "id": "UgumQvst2qju",
        "outputId": "4aa3ce67-ddf5-41fc-d0a8-19ec91ff7ae9"
      },
      "source": [
        "df = load_data(\"./sports_Training.csv\")"
      ],
      "execution_count": 18,
      "outputs": [
        {
          "output_type": "stream",
          "name": "stdout",
          "text": [
            "[[15.1 3 2 ... 29 4 'Futbol']\n",
            " [15.4 3 2 ... 18 8 'Rugby']\n",
            " [13.6 5 5 ... 27 28 'Voleibol']\n",
            " ...\n",
            " [17.0 5 1 ... 54 40 'Futbol']\n",
            " [17.3 5 1 ... 65 29 'Basketball']\n",
            " [15.5 1 1 ... 22 29 'Rugby']]\n"
          ]
        }
      ]
    },
    {
      "cell_type": "markdown",
      "metadata": {
        "id": "r4u-xLcyeSmQ"
      },
      "source": [
        "Eliminar filas cuyo valor para el atributo 'CapacidadDecision' estan fuera de los limites. Esto\n",
        "se puede hacer de la siguiente forma utilizando la libreria Pandas"
      ]
    },
    {
      "cell_type": "code",
      "metadata": {
        "id": "YQDVZWqo3CfW"
      },
      "source": [
        "df = df[(df['CapacidadDecision'] >= 3) &\n",
        " (df['CapacidadDecision'] <= 100)]"
      ],
      "execution_count": 19,
      "outputs": []
    },
    {
      "cell_type": "markdown",
      "metadata": {
        "id": "Iy-3Uue8eVeW"
      },
      "source": [
        "Transformar atributos en string a numeros"
      ]
    },
    {
      "cell_type": "code",
      "metadata": {
        "id": "JEEYX45K3L_z",
        "colab": {
          "base_uri": "https://localhost:8080/"
        },
        "outputId": "e762cf16-d701-4d3c-fb8f-36972e74d9ca"
      },
      "source": [
        "le = LabelEncoder()\n",
        "y_encoded = le.fit_transform(y)"
      ],
      "execution_count": 20,
      "outputs": [
        {
          "output_type": "stream",
          "name": "stderr",
          "text": [
            "/usr/local/lib/python3.7/dist-packages/sklearn/preprocessing/_label.py:251: DataConversionWarning: A column-vector y was passed when a 1d array was expected. Please change the shape of y to (n_samples, ), for example using ravel().\n",
            "  y = column_or_1d(y, warn=True)\n"
          ]
        }
      ]
    },
    {
      "cell_type": "code",
      "metadata": {
        "id": "SNHcGUcUfVcy"
      },
      "source": [
        "attributes = ['Edad', 'Fuerza', 'Velocidad', 'Lesiones', 'Vision', 'Resistencia',\n",
        "       'Agilidad', 'CapacidadDecision']\n",
        "labels = ['DeportePrimario']"
      ],
      "execution_count": 21,
      "outputs": []
    },
    {
      "cell_type": "code",
      "metadata": {
        "id": "iWp0F0T_3jWh",
        "colab": {
          "base_uri": "https://localhost:8080/"
        },
        "outputId": "445385f8-6483-4d88-8aa7-80aa9fd3a125"
      },
      "source": [
        "X = df[attributes].values\n",
        "y = df[labels].values\n",
        "\n",
        "print(df[labels].value_counts())"
      ],
      "execution_count": 22,
      "outputs": [
        {
          "output_type": "stream",
          "name": "stdout",
          "text": [
            "DeportePrimario\n",
            "Futbol             156\n",
            "Rugby              116\n",
            "Voleibol           111\n",
            "Basketball          99\n",
            "dtype: int64\n"
          ]
        }
      ]
    },
    {
      "cell_type": "code",
      "metadata": {
        "id": "ljN1cFjt3ly_"
      },
      "source": [
        "train_X, test_X, train_y, test_y = train_test_split(X, y, test_size=0.25,\n",
        "random_state=0, shuffle=True)"
      ],
      "execution_count": 23,
      "outputs": []
    },
    {
      "cell_type": "code",
      "metadata": {
        "id": "HMWo4q693Sx5"
      },
      "source": [
        "lr = LinearDiscriminantAnalysis()"
      ],
      "execution_count": 24,
      "outputs": []
    },
    {
      "cell_type": "code",
      "metadata": {
        "id": "-oMxbwt43iwy",
        "colab": {
          "base_uri": "https://localhost:8080/"
        },
        "outputId": "92086afc-094f-4c03-df18-de0850020891"
      },
      "source": [
        "lr = lr.fit(train_X, train_y)"
      ],
      "execution_count": 25,
      "outputs": [
        {
          "output_type": "stream",
          "name": "stderr",
          "text": [
            "/usr/local/lib/python3.7/dist-packages/sklearn/utils/validation.py:760: DataConversionWarning: A column-vector y was passed when a 1d array was expected. Please change the shape of y to (n_samples, ), for example using ravel().\n",
            "  y = column_or_1d(y, warn=True)\n"
          ]
        }
      ]
    },
    {
      "cell_type": "code",
      "metadata": {
        "colab": {
          "base_uri": "https://localhost:8080/"
        },
        "id": "y-1-kBx66NLF",
        "outputId": "b8cd7880-449b-403f-9d89-f6669d5247c3"
      },
      "source": [
        "y_pred = lr.predict(test_X)\n",
        "print(\"Predicted vs Expected\")\n",
        "print(y_pred)\n",
        "print(test_y)"
      ],
      "execution_count": 26,
      "outputs": [
        {
          "output_type": "stream",
          "name": "stdout",
          "text": [
            "Predicted vs Expected\n",
            "['Futbol' 'Futbol' 'Rugby' 'Basketball' 'Futbol' 'Rugby' 'Voleibol'\n",
            " 'Futbol' 'Basketball' 'Voleibol' 'Rugby' 'Rugby' 'Voleibol' 'Rugby'\n",
            " 'Rugby' 'Futbol' 'Futbol' 'Futbol' 'Rugby' 'Futbol' 'Futbol' 'Futbol'\n",
            " 'Futbol' 'Futbol' 'Futbol' 'Futbol' 'Voleibol' 'Rugby' 'Futbol' 'Futbol'\n",
            " 'Futbol' 'Voleibol' 'Futbol' 'Rugby' 'Rugby' 'Rugby' 'Voleibol' 'Futbol'\n",
            " 'Voleibol' 'Rugby' 'Voleibol' 'Basketball' 'Futbol' 'Futbol' 'Basketball'\n",
            " 'Rugby' 'Rugby' 'Voleibol' 'Futbol' 'Futbol' 'Rugby' 'Voleibol' 'Futbol'\n",
            " 'Futbol' 'Futbol' 'Voleibol' 'Futbol' 'Futbol' 'Rugby' 'Rugby' 'Futbol'\n",
            " 'Rugby' 'Rugby' 'Futbol' 'Futbol' 'Rugby' 'Rugby' 'Futbol' 'Voleibol'\n",
            " 'Futbol' 'Futbol' 'Futbol' 'Basketball' 'Futbol' 'Rugby' 'Voleibol'\n",
            " 'Rugby' 'Futbol' 'Futbol' 'Futbol' 'Rugby' 'Voleibol' 'Futbol' 'Rugby'\n",
            " 'Rugby' 'Rugby' 'Futbol' 'Rugby' 'Basketball' 'Voleibol' 'Rugby' 'Futbol'\n",
            " 'Futbol' 'Rugby' 'Voleibol' 'Futbol' 'Futbol' 'Rugby' 'Rugby' 'Rugby'\n",
            " 'Rugby' 'Rugby' 'Basketball' 'Voleibol' 'Futbol' 'Basketball' 'Rugby'\n",
            " 'Rugby' 'Futbol' 'Futbol' 'Voleibol' 'Rugby' 'Voleibol' 'Rugby' 'Rugby'\n",
            " 'Basketball' 'Futbol' 'Futbol' 'Futbol' 'Rugby' 'Futbol']\n",
            "[['Basketball']\n",
            " ['Basketball']\n",
            " ['Basketball']\n",
            " ['Rugby']\n",
            " ['Futbol']\n",
            " ['Basketball']\n",
            " ['Voleibol']\n",
            " ['Futbol']\n",
            " ['Voleibol']\n",
            " ['Basketball']\n",
            " ['Futbol']\n",
            " ['Rugby']\n",
            " ['Rugby']\n",
            " ['Voleibol']\n",
            " ['Voleibol']\n",
            " ['Futbol']\n",
            " ['Futbol']\n",
            " ['Voleibol']\n",
            " ['Basketball']\n",
            " ['Futbol']\n",
            " ['Futbol']\n",
            " ['Basketball']\n",
            " ['Rugby']\n",
            " ['Basketball']\n",
            " ['Rugby']\n",
            " ['Voleibol']\n",
            " ['Rugby']\n",
            " ['Basketball']\n",
            " ['Voleibol']\n",
            " ['Futbol']\n",
            " ['Futbol']\n",
            " ['Basketball']\n",
            " ['Voleibol']\n",
            " ['Rugby']\n",
            " ['Rugby']\n",
            " ['Rugby']\n",
            " ['Futbol']\n",
            " ['Basketball']\n",
            " ['Basketball']\n",
            " ['Rugby']\n",
            " ['Futbol']\n",
            " ['Futbol']\n",
            " ['Futbol']\n",
            " ['Futbol']\n",
            " ['Voleibol']\n",
            " ['Rugby']\n",
            " ['Rugby']\n",
            " ['Rugby']\n",
            " ['Futbol']\n",
            " ['Futbol']\n",
            " ['Basketball']\n",
            " ['Futbol']\n",
            " ['Futbol']\n",
            " ['Rugby']\n",
            " ['Futbol']\n",
            " ['Voleibol']\n",
            " ['Futbol']\n",
            " ['Basketball']\n",
            " ['Voleibol']\n",
            " ['Voleibol']\n",
            " ['Futbol']\n",
            " ['Futbol']\n",
            " ['Futbol']\n",
            " ['Voleibol']\n",
            " ['Futbol']\n",
            " ['Basketball']\n",
            " ['Rugby']\n",
            " ['Futbol']\n",
            " ['Voleibol']\n",
            " ['Futbol']\n",
            " ['Voleibol']\n",
            " ['Voleibol']\n",
            " ['Rugby']\n",
            " ['Futbol']\n",
            " ['Rugby']\n",
            " ['Basketball']\n",
            " ['Basketball']\n",
            " ['Rugby']\n",
            " ['Futbol']\n",
            " ['Voleibol']\n",
            " ['Futbol']\n",
            " ['Voleibol']\n",
            " ['Basketball']\n",
            " ['Futbol']\n",
            " ['Rugby']\n",
            " ['Futbol']\n",
            " ['Futbol']\n",
            " ['Rugby']\n",
            " ['Basketball']\n",
            " ['Futbol']\n",
            " ['Rugby']\n",
            " ['Rugby']\n",
            " ['Voleibol']\n",
            " ['Basketball']\n",
            " ['Voleibol']\n",
            " ['Rugby']\n",
            " ['Futbol']\n",
            " ['Basketball']\n",
            " ['Basketball']\n",
            " ['Basketball']\n",
            " ['Voleibol']\n",
            " ['Basketball']\n",
            " ['Basketball']\n",
            " ['Basketball']\n",
            " ['Voleibol']\n",
            " ['Rugby']\n",
            " ['Voleibol']\n",
            " ['Voleibol']\n",
            " ['Futbol']\n",
            " ['Futbol']\n",
            " ['Basketball']\n",
            " ['Rugby']\n",
            " ['Futbol']\n",
            " ['Rugby']\n",
            " ['Voleibol']\n",
            " ['Basketball']\n",
            " ['Voleibol']\n",
            " ['Voleibol']\n",
            " ['Voleibol']\n",
            " ['Rugby']\n",
            " ['Futbol']]\n"
          ]
        }
      ]
    },
    {
      "cell_type": "code",
      "metadata": {
        "colab": {
          "base_uri": "https://localhost:8080/"
        },
        "id": "hrQLCPDu6WmZ",
        "outputId": "f9b33642-3164-4cca-c7c1-18e3180590d0"
      },
      "source": [
        "print(classification_report(test_y, y_pred, digits=3))"
      ],
      "execution_count": 27,
      "outputs": [
        {
          "output_type": "stream",
          "name": "stdout",
          "text": [
            "              precision    recall  f1-score   support\n",
            "\n",
            "  Basketball      0.333     0.107     0.162        28\n",
            "      Futbol      0.500     0.684     0.578        38\n",
            "       Rugby      0.366     0.556     0.441        27\n",
            "    Voleibol      0.263     0.179     0.213        28\n",
            "\n",
            "    accuracy                          0.405       121\n",
            "   macro avg      0.366     0.381     0.348       121\n",
            "weighted avg      0.377     0.405     0.367       121\n",
            "\n"
          ]
        }
      ]
    },
    {
      "cell_type": "code",
      "metadata": {
        "colab": {
          "base_uri": "https://localhost:8080/",
          "height": 334
        },
        "id": "Jy2wgZH_e2GK",
        "outputId": "a5ef1d3d-a42e-42c4-8500-3774318acfeb"
      },
      "source": [
        "plot_confusion_matrix(test_y, y_pred)"
      ],
      "execution_count": 28,
      "outputs": [
        {
          "output_type": "stream",
          "name": "stdout",
          "text": [
            "[[ 3  7 12  6]\n",
            " [ 1 26  6  5]\n",
            " [ 3  6 15  3]\n",
            " [ 2 13  8  5]]\n"
          ]
        },
        {
          "output_type": "display_data",
          "data": {
            "image/png": "[encoded data removed]",
            "text/plain": [
              "<Figure size 432x288 with 2 Axes>"
            ]
          },
          "metadata": {
            "needs_background": "light"
          }
        }
      ]
    },
    {
      "cell_type": "markdown",
      "metadata": {
        "id": "FO36FeDrejtq"
      },
      "source": [
        "Usar los datos del archivo sports_Scoring.csv para clasificar los nuevos individuos uilizando el\n",
        "modelo entrenado anteriormente. Comparar los resultados con los obtenidos en el TA6."
      ]
    },
    {
      "cell_type": "code",
      "metadata": {
        "colab": {
          "base_uri": "https://localhost:8080/"
        },
        "id": "qHHv_vBi30Za",
        "outputId": "21a74014-9e30-4f93-9d54-83151c516bd5"
      },
      "source": [
        "df_test = load_data(\"./sports_Scoring.csv\")"
      ],
      "execution_count": 29,
      "outputs": [
        {
          "output_type": "stream",
          "name": "stdout",
          "text": [
            "[[18.5  5.   1.  ...  5.  33.  61. ]\n",
            " [13.3  1.   2.  ...  5.  18.  59. ]\n",
            " [13.4  2.   1.  ...  5.  40.  11. ]\n",
            " ...\n",
            " [14.5  5.   4.  ...  3.  49.  15. ]\n",
            " [18.7  3.   4.  ...  5.  20.  54. ]\n",
            " [13.8  5.   6.  ...  6.  52.  15. ]]\n"
          ]
        }
      ]
    },
    {
      "cell_type": "code",
      "metadata": {
        "id": "0JeWjNBClsdF"
      },
      "source": [
        "df_test = df_test[(df_test['CapacidadDecision'] >= 3) &\n",
        " (df_test['CapacidadDecision'] <= 100)]"
      ],
      "execution_count": 30,
      "outputs": []
    },
    {
      "cell_type": "code",
      "metadata": {
        "id": "aDj8VXY9luoq"
      },
      "source": [
        "x_test = df_test[attributes].values"
      ],
      "execution_count": 31,
      "outputs": []
    },
    {
      "cell_type": "code",
      "metadata": {
        "colab": {
          "base_uri": "https://localhost:8080/"
        },
        "id": "zTW7RYkr4MWH",
        "outputId": "827d7d22-07ec-4cfe-e780-869809eea31c"
      },
      "source": [
        "y_pred = lr.predict(x_test)\n",
        "print(\"Predicted vs Expected\")\n",
        "print(y_pred)\n",
        "print(df_test)"
      ],
      "execution_count": 32,
      "outputs": [
        {
          "output_type": "stream",
          "name": "stdout",
          "text": [
            "Predicted vs Expected\n",
            "['Voleibol' 'Rugby' 'Futbol' ... 'Futbol' 'Basketball' 'Futbol']\n",
            "      Edad  Fuerza  Velocidad  ...  Resistencia  Agilidad  CapacidadDecision\n",
            "0     18.5       5          1  ...            5        33                 61\n",
            "1     13.3       1          2  ...            5        18                 59\n",
            "2     13.4       2          1  ...            5        40                 11\n",
            "4     16.3       3          1  ...            5        32                 35\n",
            "5     15.7       1          1  ...            3        43                 37\n",
            "...    ...     ...        ...  ...          ...       ...                ...\n",
            "1836  17.2       5          3  ...            5        36                 19\n",
            "1837  17.9       5          1  ...            0        33                  4\n",
            "1838  14.5       5          4  ...            3        49                 15\n",
            "1839  18.7       3          4  ...            5        20                 54\n",
            "1840  13.8       5          6  ...            6        52                 15\n",
            "\n",
            "[1767 rows x 8 columns]\n"
          ]
        }
      ]
    },
    {
      "cell_type": "code",
      "metadata": {
        "id": "kkG7hkStg_jl"
      },
      "source": [
        "df_test[\"prediction(DeportePrimario)\"] = y_pred"
      ],
      "execution_count": 33,
      "outputs": []
    },
    {
      "cell_type": "code",
      "metadata": {
        "id": "_XLiGDgahE49"
      },
      "source": [
        "df_test.to_csv(\"output_python.csv\")"
      ],
      "execution_count": 34,
      "outputs": []
    },
    {
      "cell_type": "code",
      "metadata": {
        "colab": {
          "base_uri": "https://localhost:8080/"
        },
        "id": "2GCxH9XwhI50",
        "outputId": "1fb9fa46-d761-4017-8701-1c293b397430"
      },
      "source": [
        "output_rapidminer = load_data(\"./output_rapidminer.csv\")\n",
        "output_python = load_data(\"./output_python.csv\")"
      ],
      "execution_count": 35,
      "outputs": [
        {
          "output_type": "stream",
          "name": "stdout",
          "text": [
            "[[1.4006538206943662 1.0267963599149224 -0.6533066011243682 ...\n",
            "  -0.05433562881444607 1.6348457196702657 'Basketball']\n",
            " [-1.4607030430992456 -1.7113272665248709 0.011026271748934443 ...\n",
            "  -1.2520386664011731 1.5321618993834443 'Rugby']\n",
            " [-1.4056769495647532 -1.0267963599149224 -0.6533066011243682 ...\n",
            "  0.5045924553926933 -0.9322497875002712 'Futbol']\n",
            " ...\n",
            " [-0.8003899206853355 1.0267963599149224 1.3396920174955398 ...\n",
            "  1.2232142779447297 -0.7268821469266282 'Futbol']\n",
            " [1.5107060077633507 -0.3422654533049741 1.3396920174955398 ...\n",
            "  -1.0923449280562765 1.2754523486663902 'Basketball']\n",
            " [-1.185572575426783 1.0267963599149224 2.6683577632421454 ...\n",
            "  1.4627548854620749 -0.7268821469266282 'Futbol']]\n",
            "[[0 18.5 5 ... 33 61 'Voleibol']\n",
            " [1 13.3 1 ... 18 59 'Rugby']\n",
            " [2 13.4 2 ... 40 11 'Futbol']\n",
            " ...\n",
            " [1838 14.5 5 ... 49 15 'Futbol']\n",
            " [1839 18.7 3 ... 20 54 'Basketball']\n",
            " [1840 13.8 5 ... 52 15 'Futbol']]\n"
          ]
        }
      ]
    },
    {
      "cell_type": "code",
      "metadata": {
        "colab": {
          "base_uri": "https://localhost:8080/"
        },
        "id": "Y56g8u2ZiD_W",
        "outputId": "580f9f5a-8c86-4407-ceab-95986e24cf15"
      },
      "source": [
        "print(output_python[\"prediction(DeportePrimario)\"].head())"
      ],
      "execution_count": 36,
      "outputs": [
        {
          "output_type": "stream",
          "name": "stdout",
          "text": [
            "0    Voleibol\n",
            "1       Rugby\n",
            "2      Futbol\n",
            "3       Rugby\n",
            "4       Rugby\n",
            "Name: prediction(DeportePrimario), dtype: object\n"
          ]
        }
      ]
    },
    {
      "cell_type": "code",
      "metadata": {
        "colab": {
          "base_uri": "https://localhost:8080/"
        },
        "id": "mdaQD2T_iIx9",
        "outputId": "987fdd8c-b86c-49ca-a6d5-270c5e59964e"
      },
      "source": [
        "print(output_rapidminer[\"prediction(DeportePrimario)\"].head())"
      ],
      "execution_count": 37,
      "outputs": [
        {
          "output_type": "stream",
          "name": "stdout",
          "text": [
            "0    Basketball\n",
            "1         Rugby\n",
            "2        Futbol\n",
            "3         Rugby\n",
            "4        Futbol\n",
            "Name: prediction(DeportePrimario), dtype: object\n"
          ]
        }
      ]
    },
    {
      "cell_type": "code",
      "metadata": {
        "colab": {
          "base_uri": "https://localhost:8080/"
        },
        "id": "NBoMzM9_hbRF",
        "outputId": "929df21e-a111-46f6-b15a-714b6645636e"
      },
      "source": [
        "print(len(output_python[\"prediction(DeportePrimario)\"]))\n",
        "print(len(output_rapidminer[\"prediction(DeportePrimario)\"]))\n",
        "comparison = output_python[\"prediction(DeportePrimario)\"] == output_rapidminer[\"prediction(DeportePrimario)\"]\n",
        "print(comparison)"
      ],
      "execution_count": 38,
      "outputs": [
        {
          "output_type": "stream",
          "name": "stdout",
          "text": [
            "1767\n",
            "1767\n",
            "0       False\n",
            "1        True\n",
            "2        True\n",
            "3        True\n",
            "4       False\n",
            "        ...  \n",
            "1762     True\n",
            "1763     True\n",
            "1764     True\n",
            "1765     True\n",
            "1766     True\n",
            "Name: prediction(DeportePrimario), Length: 1767, dtype: bool\n"
          ]
        }
      ]
    },
    {
      "cell_type": "code",
      "metadata": {
        "colab": {
          "base_uri": "https://localhost:8080/"
        },
        "id": "fa7P4nNvhj-X",
        "outputId": "0505ea65-dfbc-4125-bcd9-876f245794b8"
      },
      "source": [
        "comparison.value_counts()"
      ],
      "execution_count": 39,
      "outputs": [
        {
          "output_type": "execute_result",
          "data": {
            "text/plain": [
              "True     1486\n",
              "False     281\n",
              "Name: prediction(DeportePrimario), dtype: int64"
            ]
          },
          "metadata": {},
          "execution_count": 39
        }
      ]
    },
    {
      "cell_type": "markdown",
      "metadata": {
        "id": "otTpLPuIiWez"
      },
      "source": [
        "Dado que hay una diferencia en el tratamiento de datos los resultados no son identicos, de todas formas son bastante similares"
      ]
    }
  ]
}